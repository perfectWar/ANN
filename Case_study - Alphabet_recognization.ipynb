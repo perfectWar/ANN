{
 "cells": [
  {
   "cell_type": "code",
   "execution_count": 2,
   "id": "d500d9a7",
   "metadata": {},
   "outputs": [],
   "source": [
    "import numpy as np "
   ]
  },
  {
   "cell_type": "markdown",
   "id": "9c023267",
   "metadata": {},
   "source": [
    "Alphabet in 5x3 form (bi-polar)"
   ]
  },
  {
   "cell_type": "code",
   "execution_count": 3,
   "id": "386a2d59",
   "metadata": {},
   "outputs": [],
   "source": [
    "x = np.array([[-1,1,-1,1,-1,1,1,1,1,1,-1,1,1,-1,1],\n",
    "              [1,1,1,1,-1,1,1,1,1,1,-1,1,1,1,1],\n",
    "              [1,1,1,1,-1,-1,1,-1,-1,1,-1,-1,1,1,1],\n",
    "              [1,1,1,1,-1,1,1,-1,1,1,-1,1,1,1,1], \n",
    "              [1,1,1,1,-1,-1,1,1,1,1,-1,-1,1,1,1],\n",
    "             [1,1,1,1,-1,-1,1,1,1,1,-1,-1,1,-1,-1],\n",
    "             [1,1,1,1,-1,-1,1,1,1,1,-1,1,1,1,1],\n",
    "             [1,-1,1,1,-1,1,1,1,1,1,-1,1,1,-1,1],\n",
    "             [1,1,1,-1,1,-1,-1,1,-1,-1,1,-1,1,1,1],\n",
    "             [1,1,1,-1,1,-1,-1,1,-1,1,1,-1,1,1,-1],\n",
    "             [1,-1,1,1,1,-1,1,-1,-1,1,1,-1,1,-1,1],\n",
    "             [1,-1,-1,1,-1,-1,1,-1,-1,1,-1,-1,1,1,1],\n",
    "             [1,-1,1,1,1,1,1,-1,1,1,-1,1,1,-1,1],\n",
    "             [1,-1,1,1,-1,1,1,1,1,1,-1,1,1,-1,1],\n",
    "             [1,1,1,1,-1,1,1,-1,1,1,-1,1,1,1,1],\n",
    "             [1,1,1,1,-1,1,1,1,1,1,-1,-1,1,-1,-1],\n",
    "             [1,1,1,1,-1,1,1,1,1,1,1,-1,1,1,1],\n",
    "             [1,1,1,1,-1,1,1,1,1,1,1,-1,1,-1,1],\n",
    "             [1,1,1,1,-1,-1,1,1,1,-1,-1,1,1,1,1],\n",
    "             [1,1,1,-1,1,-1,-1,1,-1,-1,1,-1,-1,1,-1],\n",
    "             [1,-1,1,1,-1,1,1,-1,1,1,-1,1,1,1,1],\n",
    "             [1,-1,1,1,-1,1,1,-1,1,-1,1,-1,-1,1,-1],\n",
    "             [1,-1,1,1,-1,1,1,-1,1,1,1,1,1,-1,1],\n",
    "             [1,-1,1,1,-1,1,-1,1,-1,1,-1,1,1,-1,1],\n",
    "             [1,-1,1,1,-1,1,-1,1,-1,-1,1,-1,-1,1,-1],\n",
    "             [1,1,1,-1,-1,1,-1,1,-1,1,-1,-1,1,1,1]])"
   ]
  },
  {
   "cell_type": "markdown",
   "id": "46ef6e21",
   "metadata": {},
   "source": [
    "Targeted column (5 input so 5 columns)"
   ]
  },
  {
   "cell_type": "code",
   "execution_count": 10,
   "id": "21ff3eac",
   "metadata": {},
   "outputs": [],
   "source": [
    "t = np.array([[1]*26,\n",
    "             [1]*25 +[-1],\n",
    "             [1]*24 +[-1]*2,\n",
    "             [1]*23 +[-1]*3,\n",
    "             [1]*22 +[-1]*4,\n",
    "             [1]*21 +[-1]*5,\n",
    "             [1]*20 +[-1]*6,\n",
    "             [1]*19 +[-1]*7,\n",
    "             [1]*18 +[-1]*8,\n",
    "             [1]*17 +[-1]*9,\n",
    "             [1]*16 +[-1]*10,\n",
    "             [1]*15 +[-1]*11,\n",
    "             [1]*14 +[-1]*12,\n",
    "             [1]*13 +[-1]*13,\n",
    "             [1]*12 +[-1]*14,\n",
    "             [1]*11 +[-1]*15,\n",
    "             [1]*10 +[-1]*16,\n",
    "             [1]*9 +[-1]*17,\n",
    "             [1]*8 +[-1]*18,\n",
    "             [1]*7 +[-1]*19,\n",
    "             [1]*6 +[-1]*20,\n",
    "             [1]*5 +[-1]*21,\n",
    "             [1]*4 +[-1]*22,\n",
    "             [1]*3 +[-1]*23,\n",
    "             [1]*2 +[-1]*24,\n",
    "             [1]*1 +[-1]*25])"
   ]
  },
  {
   "cell_type": "code",
   "execution_count": 11,
   "id": "2f1727c6",
   "metadata": {},
   "outputs": [],
   "source": [
    "alpha = np.array([['A'], ['B'], ['C'], ['D'], ['E'],['F'],['G'],['H'],['I'],['J'],['K'],['L'],['M'],['N'],['O'],\n",
    "                 ['P'],['Q'],['R'],['S'],['T'],['U'],['V'],['W'],['X'],['Y'],['Z']])"
   ]
  },
  {
   "cell_type": "code",
   "execution_count": 12,
   "id": "ff5eb852",
   "metadata": {},
   "outputs": [],
   "source": [
    "sum = 0"
   ]
  },
  {
   "cell_type": "markdown",
   "id": "6c4826ef",
   "metadata": {},
   "source": [
    "Hetro-associative network for learning of the data"
   ]
  },
  {
   "cell_type": "code",
   "execution_count": 13,
   "id": "58641b21",
   "metadata": {},
   "outputs": [],
   "source": [
    "for i in range(len(x)):\n",
    "    w = np.transpose(np.matrix(x[i]))\n",
    "    result = np.multiply(w,t[i])\n",
    "    sum += result"
   ]
  },
  {
   "cell_type": "code",
   "execution_count": 14,
   "id": "780cfb56",
   "metadata": {},
   "outputs": [
    {
     "data": {
      "text/plain": [
       "matrix([[ 24,  22,  20,  18,  16,  14,  12,  10,   8,   6,   4,   2,   0,\n",
       "          -2,  -4,  -6,  -8, -10, -12, -14, -16, -18, -20, -22, -24, -26],\n",
       "        [  6,   4,   6,   8,  10,  12,  14,  12,  10,   8,   6,   4,   2,\n",
       "           4,   6,   8,  10,   8,   6,   8,   6,   4,   2,   0,  -2,  -4],\n",
       "        [ 22,  20,  18,  16,  14,  12,  10,   8,   6,   4,   2,   0,  -2,\n",
       "          -4,  -6,  -4,  -6,  -8, -10, -12, -14, -16, -18, -20, -22, -24],\n",
       "        [ 18,  20,  18,  16,  14,  12,  10,  12,  10,   8,   6,   4,   2,\n",
       "           0,  -2,  -4,  -6,  -4,  -2,  -4,  -6,  -8, -10, -12, -14, -16],\n",
       "        [-16, -14, -12, -10,  -8,  -6,  -4,  -6,  -4,  -2,   0,   2,   4,\n",
       "           6,   4,   6,   4,   2,   0,   2,   4,   6,   8,  10,  12,  14],\n",
       "        [  6,   4,   2,   0,  -2,  -4,  -6,  -4,  -2,  -4,  -6,  -8, -10,\n",
       "         -12, -14, -12, -10,  -8,  -6,  -8,  -6,  -4,  -2,  -4,  -2,  -4],\n",
       "        [ 14,  16,  18,  20,  18,  16,  14,  16,  14,  12,  10,   8,   6,\n",
       "           4,   2,   0,  -2,   0,   2,   0,  -2,  -4,  -6,  -8, -10, -12],\n",
       "        [  8,   6,   4,   2,   4,   6,   8,   6,   4,   2,   0,  -2,   0,\n",
       "          -2,   0,   2,   4,   2,   0,  -2,  -4,  -6,  -8,  -6,  -4,  -6],\n",
       "        [  8,  10,  12,  14,  12,  10,   8,  10,   8,   6,   4,   2,   0,\n",
       "          -2,  -4,  -2,   0,   2,   4,   2,   0,  -2,  -4,  -6,  -4,  -6],\n",
       "        [ 16,  14,  16,  14,  12,  14,  12,  14,  16,  14,  12,  10,   8,\n",
       "           6,   4,   2,   0,  -2,   0,  -2,  -4,  -6,  -8, -10, -12, -14],\n",
       "        [ -8,  -6,  -8,  -6,  -8, -10,  -8, -10,  -8, -10, -12, -10,  -8,\n",
       "          -6,  -4,  -2,  -4,  -6,  -8,  -6,  -4,  -2,   0,   2,   4,   6],\n",
       "        [ -2,   0,   2,   0,  -2,   0,  -2,   0,  -2,   0,   2,   4,   2,\n",
       "           0,  -2,   0,   2,   4,   6,   4,   2,   4,   6,   4,   6,   4],\n",
       "        [ 20,  18,  20,  18,  16,  18,  16,  18,  16,  14,  12,  10,   8,\n",
       "           6,   4,   2,   0,  -2,  -4,  -6,  -8, -10, -12, -14, -16, -18],\n",
       "        [  6,   4,   2,   4,   6,   4,   2,   0,  -2,   0,  -2,   0,  -2,\n",
       "           0,   2,   0,   2,   0,  -2,   0,  -2,   0,  -2,  -4,  -6,  -8],\n",
       "        [ 14,  12,  14,  12,  10,  12,  10,  12,  10,   8,   6,   8,   6,\n",
       "           4,   2,   0,  -2,   0,  -2,  -4,  -6,  -4,  -6,  -8, -10, -12]])"
      ]
     },
     "execution_count": 14,
     "metadata": {},
     "output_type": "execute_result"
    }
   ],
   "source": [
    "sum"
   ]
  },
  {
   "cell_type": "markdown",
   "id": "ddf80da6",
   "metadata": {},
   "source": [
    "Testing"
   ]
  },
  {
   "cell_type": "code",
   "execution_count": 15,
   "id": "2d385495",
   "metadata": {},
   "outputs": [],
   "source": [
    "n = [1,-1,-1,1,-1,-1,1,1,1,1,-1,1,1,-1,1]"
   ]
  },
  {
   "cell_type": "code",
   "execution_count": 36,
   "id": "e9286d3a",
   "metadata": {},
   "outputs": [
    {
     "name": "stdout",
     "output_type": "stream",
     "text": [
      "The possible alphabet is :  ['H']\n"
     ]
    }
   ],
   "source": [
    "def check(x, alpha, n):\n",
    "    for i in range(len(x)):\n",
    "        if x[i].tolist() != n:\n",
    "            continue\n",
    "        else:\n",
    "            return alpha[i]\n",
    "    return False\n",
    "\n",
    "def match(r, t, alpha):\n",
    "    for i in range(len(t[0])):\n",
    "        a = r.tolist()\n",
    "        if t[i].tolist() == a[0]:\n",
    "            return alpha[i]\n",
    "        \n",
    "    hamm = []\n",
    "    total = []\n",
    "    count = 0\n",
    "    for i in range(len(t[0])):\n",
    "        for j in range(len(t[0])):\n",
    "            if t[i][j] == a[0][j]:\n",
    "                hamm.append(-1)\n",
    "            else:\n",
    "                hamm.append(1)\n",
    "                count += 1\n",
    "        hamm[-1] = count\n",
    "        total.append(hamm)\n",
    "        hamm = []\n",
    "        count = 0\n",
    "    \n",
    "    minn = total[0][-1]\n",
    "    for i in range(len(total)):\n",
    "        if total[i][-1] < minn:\n",
    "            minn = total[i][-1]\n",
    "            \n",
    "    for i in range(len(total)):\n",
    "        if total[i][-1] == minn:\n",
    "            print(\"The possible alphabet is : \",alpha[i])\n",
    "            break\n",
    "        \n",
    "def matrix(r,t, alpha):\n",
    "    for i in range(len(r.tolist()[0])):\n",
    "        if r[0,i] > 0:\n",
    "            r[0,i] = 1\n",
    "        else:\n",
    "            r[0,i] = -1\n",
    "    return match(r,t, alpha)\n",
    "\n",
    "if check(x, alpha, n) == False:\n",
    "    r = np.dot(n, sum)\n",
    "    matrix(r,t,alpha)\n",
    "else:\n",
    "    print(\"The predicted result is \",check(x, alpha, n))"
   ]
  },
  {
   "cell_type": "code",
   "execution_count": 20,
   "id": "b72070f0",
   "metadata": {},
   "outputs": [],
   "source": [
    "def match(r, t, alpha):\n",
    "    for i in range(len(t[0])):\n",
    "        a = r.tolist()\n",
    "        if t[i].tolist() == a[0]:\n",
    "            return alpha[i]"
   ]
  },
  {
   "cell_type": "code",
   "execution_count": 21,
   "id": "7585ccd0",
   "metadata": {},
   "outputs": [],
   "source": [
    "def matrix(r,t, alpha):\n",
    "    for i in range(len(r.tolist()[0])):\n",
    "        if r[0,i] > 0:\n",
    "            r[0,i] = 1\n",
    "        else:\n",
    "            r[0,i] = -1\n",
    "    return match(r,t, alpha)"
   ]
  },
  {
   "cell_type": "code",
   "execution_count": 22,
   "id": "1eea05b1",
   "metadata": {},
   "outputs": [],
   "source": [
    "if check(x, alpha, n) == False:\n",
    "    r = np.dot(n, sum)\n",
    "    matrix(r,t,alpha)\n",
    "else:\n",
    "    print(\"The predicted result is \",check(x, alpha, n))"
   ]
  },
  {
   "cell_type": "code",
   "execution_count": null,
   "id": "7928570b",
   "metadata": {},
   "outputs": [],
   "source": []
  },
  {
   "cell_type": "code",
   "execution_count": null,
   "id": "8cda7d7e",
   "metadata": {},
   "outputs": [],
   "source": []
  }
 ],
 "metadata": {
  "kernelspec": {
   "display_name": "Python 3 (ipykernel)",
   "language": "python",
   "name": "python3"
  },
  "language_info": {
   "codemirror_mode": {
    "name": "ipython",
    "version": 3
   },
   "file_extension": ".py",
   "mimetype": "text/x-python",
   "name": "python",
   "nbconvert_exporter": "python",
   "pygments_lexer": "ipython3",
   "version": "3.10.9"
  }
 },
 "nbformat": 4,
 "nbformat_minor": 5
}
