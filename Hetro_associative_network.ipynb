{
 "cells": [
  {
   "cell_type": "code",
   "execution_count": 6,
   "id": "ee3334c5",
   "metadata": {},
   "outputs": [],
   "source": [
    "import numpy as np"
   ]
  },
  {
   "cell_type": "code",
   "execution_count": 7,
   "id": "b7e656e4",
   "metadata": {},
   "outputs": [],
   "source": [
    "#inputs\n",
    "x = np.array([[1,-1,-1,-1], [1,1,-1,-1], [-1,-1,-1,1],[-1,-1,1,1]])\n",
    "\n",
    "#targets\n",
    "t = np.array([[-1,1],[-1,1],[1,-1],[1,-1]])"
   ]
  },
  {
   "cell_type": "code",
   "execution_count": 8,
   "id": "92539148",
   "metadata": {},
   "outputs": [
    {
     "name": "stdout",
     "output_type": "stream",
     "text": [
      "[[ 1 -1 -1 -1]\n",
      " [ 1  1 -1 -1]\n",
      " [-1 -1 -1  1]\n",
      " [-1 -1  1  1]]\n"
     ]
    }
   ],
   "source": [
    "print(x)"
   ]
  },
  {
   "cell_type": "code",
   "execution_count": 9,
   "id": "7c30f4aa",
   "metadata": {},
   "outputs": [],
   "source": [
    "sum = 0"
   ]
  },
  {
   "cell_type": "code",
   "execution_count": 10,
   "id": "df6d6aa2",
   "metadata": {},
   "outputs": [
    {
     "name": "stdout",
     "output_type": "stream",
     "text": [
      "[[-4  4]\n",
      " [-2  2]\n",
      " [ 2 -2]\n",
      " [ 4 -4]]\n"
     ]
    }
   ],
   "source": [
    "for i in range(4):\n",
    "    #converting to each row to matrix of x and transpose it\n",
    "    w = np.transpose(np.matrix(x[i]))\n",
    "    \n",
    "    #multiply the target to the inputs\n",
    "    result = np.multiply(w,t[i])\n",
    "    \n",
    "    #adding the all results of the target and inputs multiply \n",
    "    sum += result\n",
    "print(sum)"
   ]
  },
  {
   "cell_type": "code",
   "execution_count": 13,
   "id": "b7194b9d",
   "metadata": {},
   "outputs": [],
   "source": [
    "#testing the model\n",
    "n = np.array([[1,1,0,0]])"
   ]
  },
  {
   "cell_type": "code",
   "execution_count": 14,
   "id": "520c0b3c",
   "metadata": {},
   "outputs": [
    {
     "data": {
      "text/plain": [
       "matrix([[-6,  6]])"
      ]
     },
     "execution_count": 14,
     "metadata": {},
     "output_type": "execute_result"
    }
   ],
   "source": [
    "#multiply by the sum\n",
    "r = np.dot(n,sum)\n",
    "r"
   ]
  },
  {
   "cell_type": "code",
   "execution_count": 16,
   "id": "8ed1ad15",
   "metadata": {},
   "outputs": [],
   "source": [
    "#if greater than 0 than 1 else -1\n",
    "for i in range(2):\n",
    "    if r[0,i] > 0:\n",
    "        r[0,i] = 1\n",
    "    elif r[0,i] == 0:\n",
    "        r[0,i] = 0\n",
    "    else:\n",
    "        r[0,i] = -1"
   ]
  },
  {
   "cell_type": "code",
   "execution_count": 18,
   "id": "b28314a3",
   "metadata": {},
   "outputs": [
    {
     "data": {
      "text/plain": [
       "matrix([[-1,  1]])"
      ]
     },
     "execution_count": 18,
     "metadata": {},
     "output_type": "execute_result"
    }
   ],
   "source": [
    "r"
   ]
  },
  {
   "cell_type": "code",
   "execution_count": 19,
   "id": "fc04bf1f",
   "metadata": {},
   "outputs": [
    {
     "name": "stdout",
     "output_type": "stream",
     "text": [
      "[1, 1, -1, -1]\n"
     ]
    }
   ],
   "source": [
    "#empty list\n",
    "li = []\n",
    "\n",
    "#array of the testing data 0 converted to -1\n",
    "#n = np.array([[1,1,-1,-1]])\n",
    "\n",
    "#hamming_dist list\n",
    "hamming_dist = []\n",
    "\n",
    "#calculation of the XOR for hamming dist\n",
    "for i in range(4):\n",
    "    if (t[i][0] == r[0,0]) and (t[i][1] == r[0,1]):\n",
    "        for j in range(4):\n",
    "            if x[i][j] == n[0][j]:\n",
    "                li.append(-1)\n",
    "            else:\n",
    "                li.append(1)\n",
    "                \n",
    "        #counting number of 1's \n",
    "        count = 0\n",
    "        for k in li:\n",
    "            if k == 1:\n",
    "                count += 1\n",
    "                \n",
    "        #converting x[i] to list for appending propose for getting the result\n",
    "        w = x[i].tolist()\n",
    "        w.append(count)\n",
    "        hamming_dist.append(w)\n",
    "        #empty the list again\n",
    "        li = []\n",
    "        \n",
    "#finding the minimum value distance of the matched pattern\n",
    "min_value = hamming_dist[0][-1]\n",
    "for i in range(len(hamming_dist)):\n",
    "    if min_value > hamming_dist[i][-1]:\n",
    "        min_value = hamming_dist[i][-1]\n",
    "        \n",
    "#printing the final result of the hetro associative network\n",
    "for i in hamming_dist:\n",
    "    if min_value == i[-1]:\n",
    "        print(i[0:len(i)-1])"
   ]
  },
  {
   "cell_type": "code",
   "execution_count": 20,
   "id": "1851203b",
   "metadata": {},
   "outputs": [
    {
     "data": {
      "text/plain": [
       "[[1, -1, -1, -1, 3], [1, 1, -1, -1, 2]]"
      ]
     },
     "execution_count": 20,
     "metadata": {},
     "output_type": "execute_result"
    }
   ],
   "source": [
    "hamming_dist"
   ]
  },
  {
   "cell_type": "code",
   "execution_count": null,
   "id": "ab65bccd",
   "metadata": {},
   "outputs": [],
   "source": []
  },
  {
   "cell_type": "code",
   "execution_count": null,
   "id": "8dfb0c76",
   "metadata": {},
   "outputs": [],
   "source": []
  }
 ],
 "metadata": {
  "kernelspec": {
   "display_name": "Python 3 (ipykernel)",
   "language": "python",
   "name": "python3"
  },
  "language_info": {
   "codemirror_mode": {
    "name": "ipython",
    "version": 3
   },
   "file_extension": ".py",
   "mimetype": "text/x-python",
   "name": "python",
   "nbconvert_exporter": "python",
   "pygments_lexer": "ipython3",
   "version": "3.10.9"
  }
 },
 "nbformat": 4,
 "nbformat_minor": 5
}
